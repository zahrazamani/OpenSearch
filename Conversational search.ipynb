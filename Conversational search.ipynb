{
 "cells": [
  {
   "cell_type": "markdown",
   "id": "082aa845",
   "metadata": {},
   "source": [
    "# Lab 5: Build agentic conversational search\n",
    "\n"
   ]
  },
  {
   "cell_type": "markdown",
   "id": "98c50906",
   "metadata": {},
   "source": [
    "In this notebook, you will build a \"shopping assistant\" chat bot using OpenSearch Service out-of-the-box ML features. You will start by installing the relevant librairies and dependecies. Then you will create a python client to connect to OpenSearch Service and AWS resources. Afterwards, you will create the necessary components to build a multimodal conversational such as OpenSearch KNN index, OpenSearch search pipeline with RAG processor.\n",
    "\n",
    "The content from step 1 to step 5 is related to building the multimodal RAG using multimodal embeddings for both text and images. \n",
    "\n",
    "Step 6 of the notebook is a pre-requisite to the second part of the lab where you will augment the conversational search with an AI agent. Once you finish step 6, you can get back to the workshop and follow the steps to experiment with agentic RAG on the web application deployed in the beginning of the workshop."
   ]
  },
  {
   "cell_type": "markdown",
   "id": "07d37f81",
   "metadata": {},
   "source": [
    "<H2>Part 1: Build multimodal conversational search with OpenSearch Service</H2>"
   ]
  },
  {
   "cell_type": "markdown",
   "id": "55c7b731",
   "metadata": {},
   "source": [
    "The vector dataset used in this part of the lab is comprised of \\a variety of products that have been sold on Amazon.com  \n",
    "You will use OpenSearch ingest pipeline with embedding processor to generate multimodal embeddings for both text and images from the dataset. Using the neural plugin in OpenSearch will allow you to generate the embeddings of the search query as well.\n",
    "You will then use the Anthropic Claude v2 large language model (LLM) with the RAG processor in the search pipeline to generate text. The RAG processor will combine the retrieved search results from OpenSearch with the generated answer from the LLM to send back to the end user.\n",
    "\n",
    "Follow step 1 to step 5 to complete part 1 of the lab."
   ]
  },
  {
   "cell_type": "markdown",
   "id": "853ae065",
   "metadata": {},
   "source": [
    "### The key steps in part 1 of this lab are as follow:\n",
    "\n",
    "1. Get pre-requisites installed and libraries imported.\n",
    "1. Download the sample data set from S3 (items.txt), create a KNN-enabled index and ingest the catalog items into the index.\n",
    "1. Find connectors and register the various ML models we will be using (multimodal embedding model, large language model).\n",
    "1. Deploy the search pipeline.\n",
    "1. Test conversational search.\n",
    "1. Export the model IDs deployed in this notebook for use in the web application."
   ]
  },
  {
   "cell_type": "markdown",
   "id": "b8be245f",
   "metadata": {},
   "source": [
    "# 1. Lab Pre-requisites\n",
    "This notebook is designed to be run as part of the larger workshop [Build next-gen search with Amazon OpenSearch Service](https://catalog.workshops.aws/opensearch-ml-search/en-US]).\n",
    "Before proceeding with this notebook, you should complete all of the [setup steps](https://catalog.workshops.aws/opensearch-ml-search/en-US/setup/deploy-app)."
   ]
  },
  {
   "cell_type": "markdown",
   "id": "2df92a75",
   "metadata": {
    "tags": []
   },
   "source": [
    "## 1.1. Import libraries & initialize resources\n",
    "The code blocks below will install and import all the relevant libraries and modules used in this notebook."
   ]
  },
  {
   "cell_type": "code",
   "execution_count": null,
   "id": "bd35fc57",
   "metadata": {
    "tags": []
   },
   "outputs": [],
   "source": [
    "!pip install opensearch-py -q\n",
    "!pip install opensearch_py_ml -q\n",
    "!pip install deprecated -q\n",
    "!pip install requests_aws4auth -q\n",
    "!pip install streamlit -q\n",
    "\n",
    "print(\"Installs completed.\")"
   ]
  },
  {
   "cell_type": "markdown",
   "id": "88fdd173",
   "metadata": {},
   "source": [
    "Import the required libraries:"
   ]
  },
  {
   "cell_type": "code",
   "execution_count": null,
   "id": "d9d38375",
   "metadata": {
    "scrolled": true,
    "tags": []
   },
   "outputs": [],
   "source": [
    "# Import Python libraries\n",
    "import boto3\n",
    "import json\n",
    "from opensearchpy import OpenSearch, RequestsHttpConnection\n",
    "import os\n",
    "from os import path\n",
    "import urllib.request\n",
    "import tarfile\n",
    "from requests_aws4auth import AWS4Auth\n",
    "from ruamel.yaml import YAML\n",
    "from PIL import Image\n",
    "import base64\n",
    "import re\n",
    "import time as t\n",
    "import pandas as pd\n",
    "from IPython.display import display, HTML\n",
    "import sys\n",
    "import requests\n",
    "sys.path.append('/home/ec2-user/SageMaker/AI-search-with-amazon-opensearch-service/OpenSearchApp/semantic_search')\n",
    "import dynamo_state as ds\n",
    "print(\"Imports and initialization completed.\")"
   ]
  },
  {
   "cell_type": "markdown",
   "id": "ed452d3d-d89e-48ad-bdcf-a2c9acacc820",
   "metadata": {},
   "source": [
    "# 2. Download and index the sample data set (product catalog)\n",
    "\n",
    "We have taken the esci dataset and prepared it as follows:\n",
    "- Downloaded product images\n",
    "- Used multimodal embedding model to create separate vector embeddings for each product title and image\n",
    "- Wrote the product details and vector embeddings back into a dictionary object\n",
    "- Wrote it out to data_esci_index.txt\n",
    "\n",
    "The following cells will download the .txt file and walk through ingesting all 56,487 products into our OpenSearch KNN index."
   ]
  },
  {
   "cell_type": "code",
   "execution_count": null,
   "id": "74d73354-8c00-414e-8563-c1fea7982a70",
   "metadata": {
    "tags": []
   },
   "outputs": [],
   "source": [
    "# Download and extract the data_esci_index.txt file from the workshop S3 bucket\n",
    "\n",
    "!aws s3 cp s3://ws-assets-prod-iad-r-pdx-f3b3f9f1a7d6a3d0/e35b177d-47a5-4276-8584-dc5cf96ca8e6/data_esci_index.txt.zip /home/ec2-user/SageMaker/data_esci_index.txt.zip\n",
    "!cd /home/ec2-user/SageMaker && unzip -o data_esci_index.txt.zip\n",
    "print(\"Files downloaded and unzipped.\")"
   ]
  },
  {
   "cell_type": "markdown",
   "id": "61449be0-4aae-49e4-81b9-f7cf0ec8379f",
   "metadata": {
    "tags": []
   },
   "source": [
    "## 2.2 Establish a connection to the OpenSearch Service domain\n",
    "\n"
   ]
  },
  {
   "cell_type": "code",
   "execution_count": null,
   "id": "81c32082-19b3-4f24-8260-d51118f409d5",
   "metadata": {
    "tags": []
   },
   "outputs": [],
   "source": [
    "# Get the Amazon OpenSearch Service domain endpoint info from DynamoDB\n",
    "session = boto3.Session()\n",
    "account_id = boto3.client('sts').get_caller_identity().get('Account')\n",
    "region = session.region_name\n",
    "\n",
    "aos_host = ds.get_from_dynamo(\"OpenSearchDomainEndpoint\")\n",
    "aos_host"
   ]
  },
  {
   "cell_type": "markdown",
   "id": "797317a5-f6df-4c08-9a98-b81df5e1a456",
   "metadata": {},
   "source": [
    "### 🚨 Authentication cell below 🚨 \n",
    "The below cell establishes an authenticated connection to our OpenSearch Service domain. The connection will periodically expire.\n",
    "If you see an `AuthorizationException` error later in this notebook it means that the connection has expired and you just need to re-run the cell to get a new security tokken."
   ]
  },
  {
   "cell_type": "code",
   "execution_count": 102,
   "id": "10616439-4ed6-4faf-8157-da56df28d69a",
   "metadata": {
    "tags": []
   },
   "outputs": [
    {
     "name": "stdout",
     "output_type": "stream",
     "text": [
      "Connection details: \n"
     ]
    },
    {
     "data": {
      "text/plain": [
       "<OpenSearch([{'host': 'search-opensearchservi-6vvwmerkz2qq-wauita5w3ffcalgmd44hed5keu.us-west-2.es.amazonaws.com', 'port': 443, 'use_ssl': True}])>"
      ]
     },
     "execution_count": 102,
     "metadata": {},
     "output_type": "execute_result"
    }
   ],
   "source": [
    "# Connect to OpenSearch using the IAM Role of this notebook\n",
    "credentials = boto3.Session().get_credentials()\n",
    "awsauth = AWS4Auth(\n",
    "    credentials.access_key,\n",
    "    credentials.secret_key,\n",
    "    region,\n",
    "    'es',\n",
    "    session_token=credentials.token\n",
    ")\n",
    "\n",
    "# Create OpenSearch client\n",
    "aos_client = OpenSearch(\n",
    "    hosts=[f'https://{aos_host}'],\n",
    "    http_auth=awsauth,\n",
    "    use_ssl=True,\n",
    "    verify_certs=True,\n",
    "    connection_class=RequestsHttpConnection,\n",
    "    timeout=60\n",
    ")\n",
    "print(\"Connection details: \")\n",
    "aos_client"
   ]
  },
  {
   "cell_type": "markdown",
   "id": "a8ec7693-3a0b-41c7-b154-fed58a7502ee",
   "metadata": {
    "tags": []
   },
   "source": [
    "## 2.3 Create the index with defined mappings.\n",
    "\n",
    "It is important to define the 'knn_vector' fields as without the propper definitions dynamic mapping would type these as simple float fields.\n"
   ]
  },
  {
   "cell_type": "code",
   "execution_count": null,
   "id": "f9aa795f-c62c-4fb3-9207-af0ffce9029f",
   "metadata": {
    "tags": []
   },
   "outputs": [],
   "source": [
    "### Create the k-NN index\n",
    "# Check if the index exists. Delete and recreate if it does. \n",
    "if aos_client.indices.exists(index='opensearch-rag-index'):\n",
    "    print(\"The index exists. Deleting...\")\n",
    "    response = aos_client.indices.delete(index='opensearch-rag-index')\n",
    "    \n",
    "payload = { \n",
    "  \"settings\": {\n",
    "    \"index\": {\n",
    "      \"knn\": True\n",
    "    }\n",
    "  },\n",
    "    \"mappings\": {\n",
    "          \"properties\": {\n",
    "            \"asin\": {\n",
    "              \"type\": \"keyword\"\n",
    "            },\n",
    "            \"formats\": {\n",
    "              \"type\": \"object\"\n",
    "            },\n",
    "            \"image\": {\n",
    "              \"type\": \"keyword\"\n",
    "            },\n",
    "            \"info\": {\n",
    "              \"type\": \"object\"\n",
    "            },\n",
    "            \"locale\": {\n",
    "              \"type\": \"keyword\"\n",
    "            },\n",
    "            \"price\": {\n",
    "              \"type\": \"double\"\n",
    "            },\n",
    "            \"product_image\": {\n",
    "              \"type\": \"binary\"\n",
    "            },\n",
    "            \"product_multimodal_vector\": {\n",
    "              \"type\": \"knn_vector\",\n",
    "              \"dimension\": 1024,\n",
    "              \"method\": {\n",
    "                \"engine\": \"faiss\",\n",
    "                \"space_type\": \"l2\",\n",
    "                \"name\": \"hnsw\",\n",
    "                \"parameters\": {}\n",
    "              }\n",
    "            },\n",
    "            \"product_title_vector\": {\n",
    "              \"type\": \"knn_vector\",\n",
    "              \"dimension\": 1024,\n",
    "              \"method\": {\n",
    "                \"engine\": \"faiss\",\n",
    "                \"space_type\": \"l2\",\n",
    "                \"name\": \"hnsw\",\n",
    "                \"parameters\": {}\n",
    "              }\n",
    "            },\n",
    "            \"template\": {\n",
    "              \"type\": \"keyword\"\n",
    "            }\n",
    "          }\n",
    "        }\n",
    "}\n",
    "\n",
    "print(\"Creating index...\")\n",
    "response = aos_client.indices.create(index='opensearch-rag-index',body=payload)\n",
    "response"
   ]
  },
  {
   "cell_type": "markdown",
   "id": "44fc8991-83b2-4ee4-a8e2-fb3fb2dcc9b6",
   "metadata": {
    "tags": []
   },
   "source": [
    "## 2.4 Load data into the new index\n",
    "\n",
    "The data_esci_index.txt file contains 56,487 products in JSON format. Each product has all of the fields listed in the index definition from the previous cell. \n",
    "\n",
    "We will use the [bulk API](https://opensearch.org/docs/latest/api-reference/document-apis/bulk/) to load all of the products into our newly created index. "
   ]
  },
  {
   "cell_type": "code",
   "execution_count": 95,
   "id": "77602fb6-d7a6-4d6a-aa2b-9cf4db434a84",
   "metadata": {
    "scrolled": true,
    "tags": []
   },
   "outputs": [
    {
     "name": "stdout",
     "output_type": "stream",
     "text": [
      "Batch: 30, count: 2250, errors: 0\n",
      "Batch: 60, count: 4500, errors: 0\n",
      "Batch: 90, count: 6750, errors: 0\n",
      "Batch: 120, count: 9000, errors: 0\n",
      "Batch: 150, count: 11250, errors: 0\n",
      "Batch: 180, count: 13500, errors: 0\n",
      "Batch: 210, count: 15750, errors: 0\n",
      "Batch: 240, count: 18000, errors: 0\n",
      "Batch: 270, count: 20250, errors: 0\n",
      "Batch: 300, count: 22500, errors: 0\n",
      "Batch: 330, count: 24750, errors: 0\n",
      "Batch: 360, count: 27000, errors: 0\n",
      "Batch: 390, count: 29250, errors: 0\n",
      "Batch: 420, count: 31500, errors: 0\n",
      "Batch: 450, count: 33750, errors: 0\n",
      "Batch: 480, count: 36000, errors: 0\n",
      "Batch: 510, count: 38250, errors: 0\n",
      "Batch: 540, count: 40500, errors: 0\n",
      "Batch: 570, count: 42750, errors: 0\n",
      "Batch: 600, count: 45000, errors: 0\n",
      "Batch: 630, count: 47250, errors: 0\n",
      "Batch: 660, count: 49500, errors: 0\n",
      "Batch: 690, count: 51750, errors: 0\n",
      "Batch: 720, count: 54000, errors: 0\n",
      "Batch: 750, count: 56250, errors: 0\n",
      "Last batch: 753, documet count: 56487, errors: 0\n"
     ]
    }
   ],
   "source": [
    "## Index TEXT file into index: opensearch-rag-index\n",
    "batch = 0\n",
    "count = 0\n",
    "batch_size = 75\n",
    "body_ = ''\n",
    "action = json.dumps({ 'index': { '_index': 'opensearch-rag-index' } })\n",
    "errors = []\n",
    "with open('/home/ec2-user/SageMaker/data_esci_index.txt', 'r') as file:\n",
    "    for line in file:\n",
    "        if count > 75000:\n",
    "            break # Use this to run a limited number of items.\n",
    "        if '$' in line:\n",
    "            line = json.loads(line)\n",
    "            if '$' in line['price']:\n",
    "                line['price'] = line['price'].replace('$', '') #remove $ from price field\n",
    "                line['price'] = line['price'].replace(',', '') #remove $ from price field\n",
    "            line = json.dumps(line)\n",
    "        body_ = body_ + action + \"\\n\" + line + \"\\n\"\n",
    "        if count % batch_size == 0 and count != 0:\n",
    "            batch+=1\n",
    "            if count % (batch_size*30) == 0:\n",
    "                print(\"Batch: \" + str(batch) + \", count: \" + str(count)+ \", errors: \" + str(len(errors)))\n",
    "            response = aos_client.bulk(\n",
    "                index = 'opensearch-rag-index',\n",
    "                body = body_\n",
    "            )\n",
    "            body_ = ''\n",
    "            if response['errors'] == True:\n",
    "                for item in response['items']:\n",
    "                    if item['index']['status'] != 201:\n",
    "                        errors.append(item['index']['error']) \n",
    "        count += 1\n",
    "response = aos_client.bulk(\n",
    "    index = 'opensearch-rag-index',\n",
    "    body = body_\n",
    ")\n",
    "if response['errors'] == True:\n",
    "    for item in response['items']:\n",
    "        if item['index']['status'] != 201:\n",
    "            errors.append(item['index']['error'])\n",
    "print(\"Last batch: \" + str(batch) + \", documet count: \" + str(count)+ \", errors: \" + str(len(errors)))"
   ]
  },
  {
   "cell_type": "markdown",
   "id": "a037a5cf-eb2e-4331-ba89-cb345edb3af2",
   "metadata": {
    "tags": []
   },
   "source": [
    "# 3. Find connectors and register ML models\n",
    "\n",
    "As part of the workshop setup, we deployed connectors for multiple different machine models hosted in Amazon Bedrock.\n",
    "In this step, we will register and deploy models using these connectors. "
   ]
  },
  {
   "cell_type": "markdown",
   "id": "5c0dc299-9e72-4c64-92a8-a6593a74c939",
   "metadata": {},
   "source": [
    "## 3.1 Check DynamoDB tables for existing connector and model IDs\n",
    "If there is no entry for a given connector, then we will simply store the an empty string. \n",
    "The following cells will register models as needed based on the retrieved values. Since the multimodal and text embedding connetors are deployed during setup, we can skip creating these. However, the LLM connector has most likely not been created at this stage in the lab, so we will include a cell to create it before registering the LLM model.\n",
    "\n",
    "_<b>Optional</b>: The complete code of the 'get_from_dynamo' and 'store_in_dynamo' functions can be found in the file: 'AI-search-with-amazon-opensearch-service/OpenSearchApp/semantic_search/dynamo_state.py'_"
   ]
  },
  {
   "cell_type": "code",
   "execution_count": null,
   "id": "938ed50f-e079-4823-ad66-858326f033b3",
   "metadata": {
    "tags": []
   },
   "outputs": [],
   "source": [
    "# Check DynamoDB table for existing connector and model IDs. \n",
    "mm_embedding_connector_id = ds.get_from_dynamo(\"BEDROCK_MULTIMODAL_CONNNECTOR_ID\")\n",
    "mm_embedding_model_id = ds.get_from_dynamo(\"BEDROCK_MULTIMODAL_MODEL_ID\")\n",
    "\n",
    "text_embedding_connector_id = ds.get_from_dynamo(\"BEDROCK_TEXT_CONNNECTOR_ID\")\n",
    "text_embedding_model_id = ds.get_from_dynamo(\"BEDROCK_TEXT_MODEL_ID\")\n",
    "\n",
    "llm_claude_connector_id = ds.get_from_dynamo(\"CLAUDE2_LLM_CONNECTOR_ID\")\n",
    "llm_claude_model_id = ds.get_from_dynamo(\"CLAUDE2_LLM_MODEL_ID\")"
   ]
  },
  {
   "cell_type": "markdown",
   "id": "13bd13e3-25b8-4ead-8c1e-3a95c5abf841",
   "metadata": {},
   "source": [
    "## 3.2 Register and deploy the embedding models and LLM hosted in Amazon Bedrock"
   ]
  },
  {
   "cell_type": "code",
   "execution_count": null,
   "id": "0b13b8a3-fae7-4422-9652-69e27d15146f",
   "metadata": {
    "tags": []
   },
   "outputs": [],
   "source": [
    "# Register the multimodal embedding model\n",
    "if not mm_embedding_model_id:\n",
    "    # Prepare the payload\n",
    "    payload = {\n",
    "        \"name\": \"Bedrock Titan mm embeddings model\",\n",
    "        \"function_name\": \"remote\",\n",
    "        \"description\": \"Bedrock Titan mm embeddings model\",\n",
    "        \"connector_id\": mm_embedding_connector_id\n",
    "    }\n",
    "    # Make the request\n",
    "    response = aos_client.transport.perform_request(\n",
    "        'POST',\n",
    "        '/_plugins/_ml/models/_register',\n",
    "        body=json.dumps(payload),\n",
    "        headers={\"Content-Type\": \"application/json\"}\n",
    "    )\n",
    "    mm_embedding_model_id = response['model_id']\n",
    "    ds.store_in_dynamo(\"BEDROCK_MULTIMODAL_MODEL_ID\",mm_embedding_model_id)\n",
    "else:\n",
    "    print(\"Skipping model registration - model already exists\")\n",
    "print(\"Multimodal embedding model registered with model_id: \" + mm_embedding_model_id)"
   ]
  },
  {
   "cell_type": "code",
   "execution_count": null,
   "id": "8f434d81-516d-4b64-9aa8-222359869e06",
   "metadata": {
    "tags": []
   },
   "outputs": [],
   "source": [
    "# Register the text embedding model\n",
    "if not text_embedding_model_id:\n",
    "    # Prepare the payload\n",
    "    payload = {\n",
    "        \"name\": \"Bedrock Titan mm embeddings model\",\n",
    "        \"function_name\": \"remote\",\n",
    "        \"description\": \"Bedrock Titan mm embeddings model\",\n",
    "        \"connector_id\": text_embedding_connector_id\n",
    "    }\n",
    "    # Make the request\n",
    "    response = aos_client.transport.perform_request(\n",
    "        'POST',\n",
    "        '/_plugins/_ml/models/_register',\n",
    "        body=json.dumps(payload),\n",
    "        headers={\"Content-Type\": \"application/json\"}\n",
    "    )\n",
    "    text_embedding_model_id = response['model_id']\n",
    "    ds.store_in_dynamo(\"BEDROCK_TEXT_MODEL_ID\",text_embedding_model_id)\n",
    "else:\n",
    "    print(\"Skipping model registration - model already exists\")\n",
    "print(\"Text embedding model registered with model_id: \" + text_embedding_model_id)"
   ]
  },
  {
   "cell_type": "markdown",
   "id": "fa318ace",
   "metadata": {},
   "source": [
    "Now create an [ML connector](https://docs.aws.amazon.com/opensearch-service/latest/developerguide/ml-amazon-connector.html) in OpenSearch to invoke Claude v2 LLM within OpenSearch RAG processor."
   ]
  },
  {
   "cell_type": "code",
   "execution_count": null,
   "id": "6a749ea1-2cca-4ffd-8390-bd7d178e5e8b",
   "metadata": {
    "tags": []
   },
   "outputs": [],
   "source": [
    "## Create LLM connector to Anthropic Claude v2\n",
    "if not llm_claude_connector_id:\n",
    "    connector_payload = {\n",
    "        \"name\": \"Amazon Bedrock\",\n",
    "        \"description\": \"Test connector for Amazon Bedrock\",\n",
    "        \"version\": 1,\n",
    "        \"protocol\": \"aws_sigv4\",\n",
    "        \"credential\": {\n",
    "            \"roleArn\": f\"arn:aws:iam::{account_id}:role/opensearch-sagemaker-role\"\n",
    "        },\n",
    "        \"parameters\": {\n",
    "            \"region\": \"us-west-2\",\n",
    "            \"service_name\": \"bedrock\",\n",
    "            \"auth\": \"Sig_V4\",\n",
    "            \"model\": \"anthropic.claude-v2\"\n",
    "        },\n",
    "        \"actions\": [\n",
    "            {\n",
    "                \"action_type\": \"predict\",\n",
    "                \"method\": \"POST\",\n",
    "                \"headers\": {\n",
    "                    \"content-type\": \"application/json\"\n",
    "                },\n",
    "                \"url\": \"https://bedrock-runtime.${parameters.region}.amazonaws.com/model/${parameters.model}/invoke\",\n",
    "                \"request_body\": \"{\\\"prompt\\\":\\\"\\\\n\\\\nHuman: ${parameters.inputs}\\\\n\\\\nAssistant:\\\",\\\"max_tokens_to_sample\\\":300,\\\"temperature\\\":0.0,\\\"top_k\\\":250,\\\"top_p\\\":1,\\\"stop_sequences\\\":[\\\"\\\\\\\\n\\\\\\\\nHuman:\\\"]}\"\n",
    "            }\n",
    "        ]\n",
    "    }\n",
    "    \n",
    "    # Create the connector\n",
    "    response = aos_client.transport.perform_request(\n",
    "        'POST',\n",
    "        '/_plugins/_ml/connectors/_create',\n",
    "        body=connector_payload\n",
    "    )\n",
    "    # Print the response\n",
    "    llm_claude_connector_id = response['connector_id']\n",
    "    ds.store_in_dynamo(\"CLAUDE2_LLM_CONNECTOR_ID\",llm_claude_connector_id)\n",
    "else:\n",
    "    print(\"Connector already exists\")\n",
    "    \n",
    "print(\"LLM connector ID: \" + llm_claude_connector_id)"
   ]
  },
  {
   "cell_type": "markdown",
   "id": "cc9d30c7",
   "metadata": {},
   "source": [
    "Register and deploy Claude v2 model in OpenSearch Service"
   ]
  },
  {
   "cell_type": "code",
   "execution_count": null,
   "id": "78fc7780-4937-4f41-abc2-61c3c39ac3fe",
   "metadata": {
    "tags": []
   },
   "outputs": [],
   "source": [
    "# Register and deploy the llm model\n",
    "if not llm_claude_model_id:\n",
    "    payload = { \n",
    "        \"name\": \"Amazon Bedrock Connector: Claude v2\",\n",
    "        \"function_name\": \"remote\",\n",
    "        \"description\": \"The connector to bedrock Claude v2\",\n",
    "        \"connector_id\": llm_claude_connector_id\n",
    "    }\n",
    "    # Make the request\n",
    "    response = aos_client.transport.perform_request(\n",
    "        'POST',\n",
    "        '/_plugins/_ml/models/_register',\n",
    "        body=json.dumps(payload),\n",
    "        headers={\"Content-Type\": \"application/json\"}\n",
    "    )\n",
    "    llm_claude_model_id = response['model_id']\n",
    "    ds.store_in_dynamo(\"CLAUDE2_LLM_MODEL_ID\",llm_claude_model_id)\n",
    "else:\n",
    "    print(\"Model is alreday registered.\")\n",
    "# Display the response    \n",
    "print(\"LLM Claude V2 model registered with model_id: \" + llm_claude_model_id)"
   ]
  },
  {
   "cell_type": "markdown",
   "id": "5a8cdac6-5717-4da8-927b-3cb0caf5be7e",
   "metadata": {},
   "source": [
    "# 4. Deploy the search pipeline"
   ]
  },
  {
   "cell_type": "markdown",
   "id": "3098a084-a190-45c8-b171-894c12742fa1",
   "metadata": {
    "tags": []
   },
   "source": [
    "## 4.1 Set ML Commons cluster settings\n",
    "OpenSearch has multiple [ML Commons](https://opensearch.org/docs/latest/ml-commons-plugin/cluster-settings/) features that enable RAG with OpenSearch Service. We will be enabling the memory_feature and rag_pipeline_feature."
   ]
  },
  {
   "cell_type": "code",
   "execution_count": null,
   "id": "01cbab30-668e-465f-9297-2b4cbb7706f2",
   "metadata": {
    "tags": []
   },
   "outputs": [],
   "source": [
    "# Set plugin settings using the cluster.put_settings method of the OpenSearch client\n",
    "response = aos_client.cluster.put_settings(\n",
    "    body={\n",
    "        \"persistent\": {\n",
    "            \"plugins.ml_commons.memory_feature_enabled\": \"true\",\n",
    "            \"plugins.ml_commons.rag_pipeline_feature_enabled\": \"true\"\n",
    "        }\n",
    "    }\n",
    ")\n",
    "# Print response. Look for 'acknowledged': True\n",
    "response"
   ]
  },
  {
   "cell_type": "markdown",
   "id": "031f2338-2d47-49a1-b665-c9bb62043667",
   "metadata": {},
   "source": [
    "## 4.2 Create the search pipeline\n",
    "Here we will create a [search pipeline](https://opensearch.org/docs/latest/search-plugins/search-pipelines/index/) to implement a response processor. The [search response processor](https://opensearch.org/docs/latest/search-plugins/search-pipelines/search-processors#search-response-processors) we will use here is the [retrieval-augmented generation processor](https://opensearch.org/docs/latest/search-plugins/search-pipelines/rag-processor/). \n",
    "\n",
    "<b>A few things to note in the RAG processor configuration:</b>\n",
    "- The 'context_field_list' has just the product 'description' field. This is the only field we are passing to the LLM from each search result.\n",
    "- The 'user_instructions' is a required field that contains the instructions sent to the LLM to guide it in producing results.\n",
    "- The 'system_prompt' is an optional field that is used adjust the LLM's behavior, such as tone, persona description, or a set of instructions.\n",
    "\n",
    "You can experiment further by adjusting these three fields and re-running the cells following it. Each time you re-run the pipeline creation cell the latest settings will take effect."
   ]
  },
  {
   "cell_type": "code",
   "execution_count": null,
   "id": "8dad1db0-6ddb-4a6a-9ecc-2852b63ef244",
   "metadata": {
    "tags": []
   },
   "outputs": [],
   "source": [
    "# Search pipeline definition\n",
    "payload = {\n",
    "    \"response_processors\": \n",
    "    [\n",
    "        {\n",
    "            \"retrieval_augmented_generation\": {\n",
    "                \"tag\": \"claude_pipeline_demo\",\n",
    "                \"description\": \"Demo pipeline using Claude connector\",\n",
    "                \"model_id\": llm_claude_model_id,\n",
    "                \"context_field_list\": [\"description\"],\n",
    "                \"system_prompt\": \"You are a helpful shopping advisor that uses their vast knowledge of fashion tips to make great recommendations people will enjoy.\",\n",
    "                \"user_instructions\": \"As a shopping advisor, be friendly and approachable. Greet the customer warmly. Evaluate each item provided in the context and provide a concise recommendation about how well each item fits the user query. Refer to each of the returned items by nummber from 1 to 5. If there are items in the provided context that do not match the user question, explain that this may be due to insufficient items in the inventory. Finally, thank the client and let them know you're available if they have any other questions.\"\n",
    "              }\n",
    "        }\n",
    "    ]\n",
    "} \n",
    "# Create the response proessor (search pipeline)\n",
    "response = aos_client.transport.perform_request(\n",
    "    'PUT',\n",
    "    \"/_search/pipeline/multimodal_rag_pipeline\",\n",
    "    body=payload,\n",
    "    headers={\"Content-Type\": \"application/json\"}\n",
    ")\n",
    "# Print response. Look for 'acknowledged': True\n",
    "response"
   ]
  },
  {
   "cell_type": "markdown",
   "id": "02bc8ec4-ac21-4e4b-91cb-e666bcc5f2c6",
   "metadata": {},
   "source": [
    "# 5. Experiment with conversational search"
   ]
  },
  {
   "cell_type": "markdown",
   "id": "e9834549-6b83-476b-9836-5af844d8e7d7",
   "metadata": {},
   "source": [
    "## 5.1 Create a new memory object (new conversation)\n",
    "OpenSearch provides [memory APIs](https://opensearch.org/docs/latest/ml-commons-plugin/api/memory-apis/index/) as part of the ML Commons plugin. The Memory API provides operations needed to store conversation history in which a messages are organized into memories.\n",
    "\n",
    "**NOTE: Each time you want to start a new conversation re-run the following cell.**"
   ]
  },
  {
   "cell_type": "code",
   "execution_count": 106,
   "id": "ab81199c-d0e4-4977-9ec4-fa51f398175b",
   "metadata": {
    "tags": []
   },
   "outputs": [
    {
     "name": "stdout",
     "output_type": "stream",
     "text": [
      "The new memory id is: mcIKfZUBc32CKVGp1-do\n"
     ]
    }
   ],
   "source": [
    "# Create new memory object.\n",
    "payload = {\n",
    "    \n",
    "    \"name\": \"Conversation about products\"\n",
    "}\n",
    "# Make the request\n",
    "response = aos_client.transport.perform_request(\n",
    "    'POST',\n",
    "    \"/_plugins/_ml/memory/\",\n",
    "    body=payload,\n",
    "    headers={\"Content-Type\": \"application/json\"}\n",
    ")\n",
    "# Persist memory_id\n",
    "memory_id = response['memory_id']\n",
    "# Print the 'memory_id'\n",
    "print(\"The new memory id is: \" +memory_id) "
   ]
  },
  {
   "cell_type": "markdown",
   "id": "86e2d42e-0aff-424b-9179-e34b3b4ec6ae",
   "metadata": {},
   "source": [
    "## 5.2 Ask a question\n",
    "This example question uses both a 'query_text' and 'query_image' field. Feel free to adjust these for different conversational results.\n",
    "\n",
    "Note here we are using a [neural query](https://opensearch.org/docs/latest/query-dsl/specialized/neural/) to perform the search, and then passing our search pipeline in parameters. Recall that the search pipeline is a 'response_processor', which will accept specific fields from the query results and then generate a response. "
   ]
  },
  {
   "cell_type": "code",
   "execution_count": null,
   "id": "3d2c7d35-5df0-49a8-bda0-d169410cbe3a",
   "metadata": {
    "tags": []
   },
   "outputs": [
    {
     "name": "stdout",
     "output_type": "stream",
     "text": [
      "Query text: For a long trip.\n",
      "Query image:\n"
     ]
    },
    {
     "data": {
      "image/jpeg": "[encoded data removed]",
      "image/png": "[encoded data removed]",
      "text/plain": [
       "<PIL.Image.Image image mode=RGB size=300x200>"
      ]
     },
     "metadata": {},
     "output_type": "display_data"
    },
    {
     "name": "stdout",
     "output_type": "stream",
     "text": [
      "────────────────────────────────────────────────────────────────────────────────\n"
     ]
    },
    {
     "data": {
      "text/html": [
       "<table border=\"1\" class=\"dataframe\">\n",
       "  <thead>\n",
       "    <tr style=\"text-align: right;\">\n",
       "      <th></th>\n",
       "      <th>Category</th>\n",
       "      <th>ASIN</th>\n",
       "      <th>Title</th>\n",
       "      <th>Image</th>\n",
       "    </tr>\n",
       "  </thead>\n",
       "  <tbody>\n",
       "    <tr>\n",
       "      <th>1</th>\n",
       "      <td>apparel</td>\n",
       "      <td>B01ESSA1BW</td>\n",
       "      <td>Heshe Women Leather Backpack Casual Daypack Sling Backpack Purse for Ladies and Girls</td>\n",
       "      <td><img src=\"https://m.media-amazon.com/images/I/71cu0YUS5jL.__AC_SY445_SX342_QL70_FMwebp_.jpg\" width=\"100\"></td>\n",
       "    </tr>\n",
       "    <tr>\n",
       "      <th>2</th>\n",
       "      <td>apparel</td>\n",
       "      <td>B07RSVCJN5</td>\n",
       "      <td>Kattee Backpack Purse Leather Anti-theft Rucksack Shoulder Bag Travel Bag for Women Large Daypack</td>\n",
       "      <td><img src=\"https://m.media-amazon.com/images/I/710msJVTsSL.__AC_SY445_SX342_QL70_FMwebp_.jpg\" width=\"100\"></td>\n",
       "    </tr>\n",
       "    <tr>\n",
       "      <th>3</th>\n",
       "      <td>apparel</td>\n",
       "      <td>B079DNGYCM</td>\n",
       "      <td>Backpack For Women Men Trendy PU Leather School College Bookbag USB Charging Port Laptop Computer Soft Leather Backpack Women Men Travel Backpack</td>\n",
       "      <td><img src=\"https://m.media-amazon.com/images/I/618aEP3dwQL.__AC_SY445_SX342_QL70_ML2_.jpg\" width=\"100\"></td>\n",
       "    </tr>\n",
       "    <tr>\n",
       "      <th>4</th>\n",
       "      <td>shoes</td>\n",
       "      <td>B07R2QJL7N</td>\n",
       "      <td>Vera Bradley Women's Cotton Xl Campus Backpack Bookbag</td>\n",
       "      <td><img src=\"https://m.media-amazon.com/images/I/61ZEDYks7iL.__AC_SX395_SY395_QL70_FMwebp_.jpg\" width=\"100\"></td>\n",
       "    </tr>\n",
       "    <tr>\n",
       "      <th>5</th>\n",
       "      <td>apparel</td>\n",
       "      <td>B07V7DDDG9</td>\n",
       "      <td>YANAIER Women Mini Backpack Purse Waterproof Nylon Fashion College Bag Daypack</td>\n",
       "      <td><img src=\"https://m.media-amazon.com/images/I/61DBqvVe2CL.__AC_SY445_SX342_QL70_FMwebp_.jpg\" width=\"100\"></td>\n",
       "    </tr>\n",
       "  </tbody>\n",
       "</table>"
      ],
      "text/plain": [
       "<IPython.core.display.HTML object>"
      ]
     },
     "metadata": {},
     "output_type": "display_data"
    },
    {
     "name": "stdout",
     "output_type": "stream",
     "text": [
      "\u001b[1mShopping assistant response:\u001b[0m\n",
      " Here are my recommendations for the 5 search results in the context of a long trip:\n",
      "\n",
      "1. This leather backpack seems like a good option for a long trip. The genuine leather material is durable and the large capacity provides enough space to pack essentials. The anti-theft design is great for travel security. \n",
      "\n",
      "2. This leather backpack from Kattee is also a nice choice for a long trip. The dual-way zippers allow convenient access to items. The shoulder straps are adjustable for comfort. The material is a mix of genuine and PU leather so it should hold up well.\n",
      "\n",
      "3. [No recommendation provided since there is no information]\n",
      "\n",
      "4. The Vera Bradley bags featured may not be the best for a long trip. These bags seem more suited for everyday or short trip use. The fabrics may not be as durable as leather for extended travel. \n",
      "\n",
      "5. This nylon backpack is lightweight and waterproof which are useful features for travel, but the capacity is quite small at just 11.5 x 10.3 x 4.3 inches. For a long trip, a larger backpack would likely be needed to fit more belongings.\n",
      "\n",
      "Overall, the first two leather backpack options seem best suited for the long trip purpose. Let me know if you need any other recommendations! I'm happy to help further.\n"
     ]
    }
   ],
   "source": [
    "# Question 1 with text and image as inputs\n",
    "query_text = \"For a long trip.\"\n",
    "query_image = \"../images_retail/accessories/1.jpg\"\n",
    "\n",
    "img = Image.open(query_image) \n",
    "img = img.resize((300, 200))\n",
    "print(\"Query text: \"+query_text)\n",
    "print(\"Query image:\")\n",
    "img.show()\n",
    "print('─' * 80)\n",
    "\n",
    "# Define the query and search body\n",
    "with open(query_image, \"rb\") as image_file:\n",
    "    query_image_binary = base64.b64encode(image_file.read()).decode(\"utf8\")\n",
    "\n",
    "response = aos_client.search(\n",
    "    index='opensearch-rag-index',\n",
    "    body={\n",
    "        \"_source\": {\n",
    "            \"exclude\": [\"product_multimodal_vector\", \"product_title_vector\"]\n",
    "        },\n",
    "        \"query\": {\n",
    "            \"neural\": {\n",
    "                \"product_multimodal_vector\": {\n",
    "                    \"query_image\": query_image_binary,\n",
    "                    \"query_text\": query_text,\n",
    "                    \"model_id\": mm_embedding_model_id,\n",
    "                    \"k\": 5\n",
    "                }\n",
    "            }\n",
    "        },\n",
    "        \"collapse\": {\n",
    "            \"field\": \"title.keyword\"  #Collapse multiple results with the same title\n",
    "        },\n",
    "        \"size\": 5,\n",
    "        \"ext\": {\n",
    "            \"generative_qa_parameters\": {\n",
    "                \"llm_model\": \"bedrock/claude\",\n",
    "                \"llm_question\": query_text,\n",
    "                \"memory_id\": memory_id,\n",
    "                \"context_size\": 5,\n",
    "                \"message_size\": 5,\n",
    "                \"timeout\": 60\n",
    "            }\n",
    "        }\n",
    "    },\n",
    "    params={\n",
    "        \"search_pipeline\": \"multimodal_rag_pipeline\"\n",
    "    },\n",
    "    request_timeout=300\n",
    ")\n",
    "# Format and display the query results\n",
    "display_data = {\n",
    "    'Category': [],\n",
    "    'ASIN': [],\n",
    "    'Title': [],\n",
    "    'Image': []\n",
    "}\n",
    "\n",
    "# Refactor the response['hits'] into a dataframe for display\n",
    "for item in response['hits']['hits']:\n",
    "    display_data['Category'].append(item['_source']['template'])\n",
    "    display_data['ASIN'].append(item['_source']['asin'])\n",
    "    display_data['Title'].append(item['_source']['title'])\n",
    "    display_data['Image'].append(item['_source']['image'])\n",
    "    \n",
    "df = pd.DataFrame(display_data)\n",
    "\n",
    "df = df.reset_index(drop=True)\n",
    "df.index += 1\n",
    "\n",
    "def create_image_tag(path, width=100):\n",
    "    return f'<img src=\"{path}\" width=\"{width}\">'\n",
    "\n",
    "df['Image'] = df['Image'].apply(create_image_tag)\n",
    "\n",
    "display(HTML(df.to_html(escape=False,index=True)))\n",
    "\n",
    "print(\"\\033[1mShopping assistant response:\\033[0m\")\n",
    "print(response['ext']['retrieval_augmented_generation']['answer'])"
   ]
  },
  {
   "cell_type": "markdown",
   "id": "9cb872a3-2aac-4520-b0e9-db5060fae59e",
   "metadata": {},
   "source": [
    "## 5.3 Ask a follow-up question"
   ]
  },
  {
   "cell_type": "code",
   "execution_count": null,
   "id": "8f0e35c4-e2db-4af4-a544-ac9e52b0b34e",
   "metadata": {
    "tags": []
   },
   "outputs": [],
   "source": [
    "# Ask a follow up question\n",
    "\n",
    "query_text = \"Thanks. How about a bag for air travel?\"\n",
    "\n",
    "print(\"Input text query: \" + query_text)\n",
    "t.sleep(10)\n",
    "# Perform the search (no new image this time)\n",
    "response = aos_client.search(\n",
    "    index='opensearch-rag-index',\n",
    "    body={\n",
    "        \"_source\": {\n",
    "            \"exclude\": [\"product_multimodal_vector\", \"product_title_vector\"]\n",
    "        },\n",
    "        \"query\": {\n",
    "            \"neural\": {\n",
    "                \"product_multimodal_vector\": {\n",
    "                    \"query_text\": query_text,\n",
    "                    \"model_id\": mm_embedding_model_id,\n",
    "                    \"k\": 5\n",
    "                }\n",
    "            }\n",
    "        },\n",
    "        \"size\": 5,\n",
    "        \"ext\": {\n",
    "            \"generative_qa_parameters\": {\n",
    "                \"llm_model\": \"bedrock/claude\",\n",
    "                \"llm_question\": query_text,\n",
    "                \"memory_id\": memory_id,\n",
    "                \"context_size\": 5,\n",
    "                \"message_size\": 5,\n",
    "                \"timeout\": 60\n",
    "            }\n",
    "        }\n",
    "    },\n",
    "    params={\n",
    "        \"search_pipeline\": \"multimodal_rag_pipeline\"\n",
    "    },\n",
    "    request_timeout=300\n",
    ")\n",
    "# Format and display the query results\n",
    "display_data = {\n",
    "    'Category': [],\n",
    "    'ASIN': [],\n",
    "    'Title': [],\n",
    "    'Image': []\n",
    "}\n",
    "\n",
    "# Refactor the response['hits'] into a dataframe for display\n",
    "for item in response['hits']['hits']:\n",
    "    display_data['Category'].append(item['_source']['template'])\n",
    "    display_data['ASIN'].append(item['_source']['asin'])\n",
    "    display_data['Title'].append(item['_source']['title'])\n",
    "    display_data['Image'].append(item['_source']['image'])\n",
    "    \n",
    "df = pd.DataFrame(display_data)\n",
    "\n",
    "df = df.reset_index(drop=True)\n",
    "df.index += 1\n",
    "\n",
    "def create_image_tag(path, width=100):\n",
    "    return f'<img src=\"{path}\" width=\"{width}\">'\n",
    "\n",
    "df['Image'] = df['Image'].apply(create_image_tag)\n",
    "\n",
    "display(HTML(df.to_html(escape=False,index=True)))\n",
    "\n",
    "print(\"\\033[1mShopping assistant response:\\033[0m\")\n",
    "print(response['ext']['retrieval_augmented_generation']['answer'])"
   ]
  },
  {
   "cell_type": "markdown",
   "id": "3c3de07b-5fa8-4235-b46d-8317c203dda8",
   "metadata": {
    "tags": []
   },
   "source": [
    "## 5.4 Check the conversation history\n",
    "To verify that the mmessages were added to the memory, provide the memory_ID to the Get Messages API:"
   ]
  },
  {
   "cell_type": "code",
   "execution_count": null,
   "id": "4779b641-ddda-4827-8fdd-6425e7fe2e89",
   "metadata": {
    "tags": []
   },
   "outputs": [],
   "source": [
    "# Make the request\n",
    "response = aos_client.transport.perform_request(\n",
    "    'GET',\n",
    "    \"/_plugins/_ml/memory/\"+memory_id +'/messages',\n",
    "    headers={\"Content-Type\": \"application/json\"}\n",
    ")\n",
    "# Print the response. You should see a dictionary containing a list of messages.\n",
    "#print(response) \n",
    "for message in response['messages']:\n",
    "    print(message)"
   ]
  },
  {
   "cell_type": "markdown",
   "id": "83c88461",
   "metadata": {},
   "source": [
    "**You can experiment further** with different questions and follow-ups by re-running the '5.1 Create a new memory object' cell and then adjusting and re-running the cells below it. Further, you can go back to the pipeline creation cell (4.2) to experiment with different user instructions and system prompts.  \n",
    "\n",
    "### Congratulations, at this point you have learned how to build conversational search with OpenSearch Service using the OpenSearch RAG processor."
   ]
  },
  {
   "cell_type": "markdown",
   "id": "5b7214de-ba2b-409c-8bc1-3df283e41093",
   "metadata": {
    "tags": []
   },
   "source": [
    "# 6. Export objects for use in the web app\n",
    "\n",
    "Now it's the time to experiment with agentic RAG with OpenSearch Service and Amazon Bedrock agents. To do so, run the following cell in step 6 and get back to the workshop to finish the part 2 agentic RAG of this lab.\n",
    "The cell below will export a few environment variables for use in our application Lambda funcction. It will also set the 'AgentReady' flag to True in our DynamoDB table for this workshop."
   ]
  },
  {
   "cell_type": "code",
   "execution_count": null,
   "id": "a51a0259-b1cb-4935-893f-10e01f0a57f2",
   "metadata": {
    "tags": []
   },
   "outputs": [],
   "source": [
    "# update Lambda environment variables\n",
    "lambda_client = boto3.client('lambda', region_name=region)\n",
    "\n",
    "response = lambda_client.update_function_configuration(\n",
    "    FunctionName= \"shopping-assistant-function-\" + account_id ,\n",
    "    Environment={\n",
    "        'Variables': {\n",
    "            'DOMAIN_ENDPOINT': aos_host,\n",
    "            'REGION': region,\n",
    "            'TEXT_EMBEDDING_MODEL': text_embedding_model_id,\n",
    "            'IMAGE_EMBEDDING_MODEL': mm_embedding_model_id,\n",
    "            'INDEX_NAME': \"opensearch-rag-index\",\n",
    "            'S3': account_id + \"-ml-search\"\n",
    "        }\n",
    "    }\n",
    ")\n",
    "if response['ResponseMetadata']['HTTPStatusCode'] == 200:\n",
    "    ds.store_in_dynamo(\"AgentReady\",\"True\")\n",
    "response['Environment']"
   ]
  },
  {
   "cell_type": "markdown",
   "id": "2daa87b2-e723-4230-a0ff-dea19decbebf",
   "metadata": {},
   "source": [
    "# Now continue on to [Lab 5, Part 2: Agentic shopping assistant](https://catalog.workshops.aws/opensearch-ml-search/en-US/lab-5/agentic-rag)."
   ]
  }
 ],
 "metadata": {
  "kernelspec": {
   "display_name": "Python 3 (ipykernel)",
   "language": "python",
   "name": "python3"
  },
  "language_info": {
   "codemirror_mode": {
    "name": "ipython",
    "version": 3
   },
   "file_extension": ".py",
   "mimetype": "text/x-python",
   "name": "python",
   "nbconvert_exporter": "python",
   "pygments_lexer": "ipython3",
   "version": "3.13.2"
  },
  "toc-autonumbering": false,
  "toc-showtags": false
 },
 "nbformat": 4,
 "nbformat_minor": 5
}
